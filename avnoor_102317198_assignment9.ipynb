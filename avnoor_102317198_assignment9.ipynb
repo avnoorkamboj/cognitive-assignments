{
  "nbformat": 4,
  "nbformat_minor": 0,
  "metadata": {
    "colab": {
      "provenance": []
    },
    "kernelspec": {
      "name": "python3",
      "display_name": "Python 3"
    },
    "language_info": {
      "name": "python"
    }
  },
  "cells": [
    {
      "cell_type": "code",
      "execution_count": 1,
      "metadata": {
        "colab": {
          "base_uri": "https://localhost:8080/"
        },
        "id": "SyZsVoWSEsMo",
        "outputId": "1b23ab83-0128-4e37-831c-e8bd337d0087"
      },
      "outputs": [
        {
          "output_type": "stream",
          "name": "stdout",
          "text": [
            "poetry is a form of literary expression that uses rhythm imagery and carefully chosen words to evoke emotions and convey ideas unlike prose poetry often relies on structure such as meter and rhyme to create musicality and depth it can be as brief as a haiku or as expansive as an epic capturing moments thoughts or stories in unique and powerful ways through its vivid language and creative forms poetry allows readers to see the world from new perspectives\n"
          ]
        }
      ],
      "source": [
        "#1\n",
        "import string\n",
        "\n",
        "text = \"\"\"Poetry is a form of literary expression that uses rhythm, imagery, and carefully chosen words to evoke emotions and convey ideas. Unlike prose, poetry often relies on structure, such as meter and rhyme, to create musicality and depth. It can be as brief as a haiku or as expansive as an epic, capturing moments, thoughts, or stories in unique and powerful ways. Through its vivid language and creative forms, poetry allows readers to see the world from new perspectives.\"\"\"\n",
        "\n",
        "# Convert to lowercase\n",
        "text_lower = text.lower()\n",
        "\n",
        "# Remove punctuation\n",
        "text_no_punct = text_lower.translate(str.maketrans('', '', string.punctuation))\n",
        "\n",
        "print(text_no_punct)"
      ]
    },
    {
      "cell_type": "code",
      "source": [
        "import nltk\n",
        "nltk.download('punkt')"
      ],
      "metadata": {
        "colab": {
          "base_uri": "https://localhost:8080/"
        },
        "id": "buwK5W7SF8-Q",
        "outputId": "ce7fc050-37d3-4ecf-fd10-0b2f324a336d"
      },
      "execution_count": 2,
      "outputs": [
        {
          "output_type": "stream",
          "name": "stderr",
          "text": [
            "[nltk_data] Downloading package punkt to /root/nltk_data...\n",
            "[nltk_data]   Unzipping tokenizers/punkt.zip.\n"
          ]
        },
        {
          "output_type": "execute_result",
          "data": {
            "text/plain": [
              "True"
            ]
          },
          "metadata": {},
          "execution_count": 2
        }
      ]
    },
    {
      "cell_type": "code",
      "source": [
        "nltk.download('punkt_tab')"
      ],
      "metadata": {
        "colab": {
          "base_uri": "https://localhost:8080/"
        },
        "id": "QpU3kD-jGB-J",
        "outputId": "31a8745d-e439-4a80-970a-7337bfa94ea8"
      },
      "execution_count": 3,
      "outputs": [
        {
          "output_type": "stream",
          "name": "stderr",
          "text": [
            "[nltk_data] Downloading package punkt_tab to /root/nltk_data...\n",
            "[nltk_data]   Unzipping tokenizers/punkt_tab.zip.\n"
          ]
        },
        {
          "output_type": "execute_result",
          "data": {
            "text/plain": [
              "True"
            ]
          },
          "metadata": {},
          "execution_count": 3
        }
      ]
    },
    {
      "cell_type": "code",
      "source": [
        "from nltk.tokenize import word_tokenize, sent_tokenize\n",
        "\n",
        "words = word_tokenize(text_no_punct)\n",
        "\n",
        "sentences = sent_tokenize(text_no_punct)\n",
        "\n",
        "print(words)\n",
        "print(sentences)"
      ],
      "metadata": {
        "colab": {
          "base_uri": "https://localhost:8080/"
        },
        "id": "lGXOObXjGGME",
        "outputId": "524c5b7e-39c0-46f3-e4de-c32edeb4c9fc"
      },
      "execution_count": 4,
      "outputs": [
        {
          "output_type": "stream",
          "name": "stdout",
          "text": [
            "['poetry', 'is', 'a', 'form', 'of', 'literary', 'expression', 'that', 'uses', 'rhythm', 'imagery', 'and', 'carefully', 'chosen', 'words', 'to', 'evoke', 'emotions', 'and', 'convey', 'ideas', 'unlike', 'prose', 'poetry', 'often', 'relies', 'on', 'structure', 'such', 'as', 'meter', 'and', 'rhyme', 'to', 'create', 'musicality', 'and', 'depth', 'it', 'can', 'be', 'as', 'brief', 'as', 'a', 'haiku', 'or', 'as', 'expansive', 'as', 'an', 'epic', 'capturing', 'moments', 'thoughts', 'or', 'stories', 'in', 'unique', 'and', 'powerful', 'ways', 'through', 'its', 'vivid', 'language', 'and', 'creative', 'forms', 'poetry', 'allows', 'readers', 'to', 'see', 'the', 'world', 'from', 'new', 'perspectives']\n",
            "['poetry is a form of literary expression that uses rhythm imagery and carefully chosen words to evoke emotions and convey ideas unlike prose poetry often relies on structure such as meter and rhyme to create musicality and depth it can be as brief as a haiku or as expansive as an epic capturing moments thoughts or stories in unique and powerful ways through its vivid language and creative forms poetry allows readers to see the world from new perspectives']\n"
          ]
        }
      ]
    },
    {
      "cell_type": "code",
      "source": [
        "nltk.download('stopwords')\n",
        "from nltk.corpus import stopwords\n",
        "\n",
        "# Remove stopwords\n",
        "stop_words = set(stopwords.words('english'))\n",
        "filtered_words = [word for word in words if word not in stop_words]\n",
        "\n",
        "print(filtered_words)"
      ],
      "metadata": {
        "colab": {
          "base_uri": "https://localhost:8080/"
        },
        "id": "i1-DyCRUGKPB",
        "outputId": "e8a1fb73-221e-4177-c582-97ff8d87ae6d"
      },
      "execution_count": 5,
      "outputs": [
        {
          "output_type": "stream",
          "name": "stdout",
          "text": [
            "['poetry', 'form', 'literary', 'expression', 'uses', 'rhythm', 'imagery', 'carefully', 'chosen', 'words', 'evoke', 'emotions', 'convey', 'ideas', 'unlike', 'prose', 'poetry', 'often', 'relies', 'structure', 'meter', 'rhyme', 'create', 'musicality', 'depth', 'brief', 'haiku', 'expansive', 'epic', 'capturing', 'moments', 'thoughts', 'stories', 'unique', 'powerful', 'ways', 'vivid', 'language', 'creative', 'forms', 'poetry', 'allows', 'readers', 'see', 'world', 'new', 'perspectives']\n"
          ]
        },
        {
          "output_type": "stream",
          "name": "stderr",
          "text": [
            "[nltk_data] Downloading package stopwords to /root/nltk_data...\n",
            "[nltk_data]   Unzipping corpora/stopwords.zip.\n"
          ]
        }
      ]
    },
    {
      "cell_type": "code",
      "source": [
        "from nltk.probability import FreqDist\n",
        "\n",
        "fdist = FreqDist(filtered_words)\n",
        "\n",
        "fdist.plot(20, title=\"Word Frequency Distribution\")"
      ],
      "metadata": {
        "colab": {
          "base_uri": "https://localhost:8080/",
          "height": 550
        },
        "id": "Ymupx-ZhGMTT",
        "outputId": "9744534e-14f2-45e5-b040-6c28c739d3e9"
      },
      "execution_count": 6,
      "outputs": [
        {
          "output_type": "execute_result",
          "data": {
            "text/plain": [
              "<Axes: title={'center': 'Word Frequency Distribution'}, xlabel='Samples', ylabel='Counts'>"
            ]
          },
          "metadata": {},
          "execution_count": 6
        },
        {
          "output_type": "display_data",
          "data": {
            "text/plain": [
              "<Figure size 640x480 with 1 Axes>"
            ],
            "image/png": "[encoded data removed]"
          },
          "metadata": {}
        }
      ]
    },
    {
      "cell_type": "code",
      "source": [
        "#2\n",
        "filtered_words"
      ],
      "metadata": {
        "colab": {
          "base_uri": "https://localhost:8080/"
        },
        "id": "uc7G_aKeGOeb",
        "outputId": "da1a1569-edf9-4619-8d17-6380c9c03015"
      },
      "execution_count": 8,
      "outputs": [
        {
          "output_type": "execute_result",
          "data": {
            "text/plain": [
              "['poetry',\n",
              " 'form',\n",
              " 'literary',\n",
              " 'expression',\n",
              " 'uses',\n",
              " 'rhythm',\n",
              " 'imagery',\n",
              " 'carefully',\n",
              " 'chosen',\n",
              " 'words',\n",
              " 'evoke',\n",
              " 'emotions',\n",
              " 'convey',\n",
              " 'ideas',\n",
              " 'unlike',\n",
              " 'prose',\n",
              " 'poetry',\n",
              " 'often',\n",
              " 'relies',\n",
              " 'structure',\n",
              " 'meter',\n",
              " 'rhyme',\n",
              " 'create',\n",
              " 'musicality',\n",
              " 'depth',\n",
              " 'brief',\n",
              " 'haiku',\n",
              " 'expansive',\n",
              " 'epic',\n",
              " 'capturing',\n",
              " 'moments',\n",
              " 'thoughts',\n",
              " 'stories',\n",
              " 'unique',\n",
              " 'powerful',\n",
              " 'ways',\n",
              " 'vivid',\n",
              " 'language',\n",
              " 'creative',\n",
              " 'forms',\n",
              " 'poetry',\n",
              " 'allows',\n",
              " 'readers',\n",
              " 'see',\n",
              " 'world',\n",
              " 'new',\n",
              " 'perspectives']"
            ]
          },
          "metadata": {},
          "execution_count": 8
        }
      ]
    },
    {
      "cell_type": "code",
      "source": [
        "from nltk.stem import PorterStemmer,LancasterStemmer\n",
        "\n",
        "ps=PorterStemmer()\n",
        "ls=LancasterStemmer()\n",
        "\n",
        "porter_stemmed=[ps.stem(word) for word in filtered_words]\n",
        "lancaster_stemmed=[ls.stem(word) for word in filtered_words]\n",
        "\n",
        "print(porter_stemmed)\n",
        "print(lancaster_stemmed)"
      ],
      "metadata": {
        "colab": {
          "base_uri": "https://localhost:8080/"
        },
        "id": "0_Uax68CGXSn",
        "outputId": "b1c95645-4b9c-4c61-b392-53131010a6b4"
      },
      "execution_count": 9,
      "outputs": [
        {
          "output_type": "stream",
          "name": "stdout",
          "text": [
            "['poetri', 'form', 'literari', 'express', 'use', 'rhythm', 'imageri', 'care', 'chosen', 'word', 'evok', 'emot', 'convey', 'idea', 'unlik', 'prose', 'poetri', 'often', 'reli', 'structur', 'meter', 'rhyme', 'creat', 'music', 'depth', 'brief', 'haiku', 'expans', 'epic', 'captur', 'moment', 'thought', 'stori', 'uniqu', 'power', 'way', 'vivid', 'languag', 'creativ', 'form', 'poetri', 'allow', 'reader', 'see', 'world', 'new', 'perspect']\n",
            "['poetry', 'form', 'lit', 'express', 'us', 'rhythm', 'imagery', 'car', 'chos', 'word', 'evok', 'emot', 'convey', 'idea', 'unlik', 'pros', 'poetry', 'oft', 'rely', 'structure', 'met', 'rhym', 'cre', 'mus', 'dep', 'brief', 'haiku', 'expand', 'ep', 'capt', 'mom', 'thought', 'story', 'un', 'pow', 'way', 'vivid', 'langu', 'cre', 'form', 'poetry', 'allow', 'read', 'see', 'world', 'new', 'perspect']\n"
          ]
        }
      ]
    },
    {
      "cell_type": "code",
      "source": [
        "from nltk.stem import WordNetLemmatizer\n",
        "nltk.download('wordnet')\n",
        "\n",
        "lemmatizer=WordNetLemmatizer()\n",
        "\n",
        "lemmatized_words=[lemmatizer.lemmatize(word) for word in filtered_words]\n",
        "\n",
        "print(lemmatized_words)"
      ],
      "metadata": {
        "colab": {
          "base_uri": "https://localhost:8080/"
        },
        "id": "PvvSkq1uGaiw",
        "outputId": "81952cee-6fee-41ae-9127-d65cee55e855"
      },
      "execution_count": 10,
      "outputs": [
        {
          "output_type": "stream",
          "name": "stderr",
          "text": [
            "[nltk_data] Downloading package wordnet to /root/nltk_data...\n"
          ]
        },
        {
          "output_type": "stream",
          "name": "stdout",
          "text": [
            "['poetry', 'form', 'literary', 'expression', 'us', 'rhythm', 'imagery', 'carefully', 'chosen', 'word', 'evoke', 'emotion', 'convey', 'idea', 'unlike', 'prose', 'poetry', 'often', 'relies', 'structure', 'meter', 'rhyme', 'create', 'musicality', 'depth', 'brief', 'haiku', 'expansive', 'epic', 'capturing', 'moment', 'thought', 'story', 'unique', 'powerful', 'way', 'vivid', 'language', 'creative', 'form', 'poetry', 'allows', 'reader', 'see', 'world', 'new', 'perspective']\n"
          ]
        }
      ]
    },
    {
      "cell_type": "code",
      "source": [
        "#3\n",
        "text = \"Poetry is a form of literary expression that uses rhythm, imagery, and carefully chosen words to evoke emotions and convey ideas. Unlike prose, poetry often relies on structure, such as meter and rhyme, to create musicality and depth. It can be as brief as a haiku or as expansive as an epic, capturing moments, thoughts, or stories in unique and powerful ways. Through its vivid language and creative forms, poetry allows readers to see the world from new perspectives.\""
      ],
      "metadata": {
        "id": "eWgYr-KkGdGv"
      },
      "execution_count": 11,
      "outputs": []
    },
    {
      "cell_type": "code",
      "source": [
        "\n",
        "import re\n",
        "words_more_than_5 = re.findall(r'\\b\\w{6,}\\b', text)\n",
        "print(\"Words with more than 5 letters:\", words_more_than_5)"
      ],
      "metadata": {
        "colab": {
          "base_uri": "https://localhost:8080/"
        },
        "id": "feLUOwFGGnuT",
        "outputId": "9c495dba-c035-4557-9e2f-604a16668707"
      },
      "execution_count": 12,
      "outputs": [
        {
          "output_type": "stream",
          "name": "stdout",
          "text": [
            "Words with more than 5 letters: ['Poetry', 'literary', 'expression', 'rhythm', 'imagery', 'carefully', 'chosen', 'emotions', 'convey', 'Unlike', 'poetry', 'relies', 'structure', 'create', 'musicality', 'expansive', 'capturing', 'moments', 'thoughts', 'stories', 'unique', 'powerful', 'Through', 'language', 'creative', 'poetry', 'allows', 'readers', 'perspectives']\n"
          ]
        }
      ]
    },
    {
      "cell_type": "code",
      "source": [
        "numbers = re.findall(r'\\b\\d+\\b', text)\n",
        "print(\"Numbers:\", numbers)\n"
      ],
      "metadata": {
        "colab": {
          "base_uri": "https://localhost:8080/"
        },
        "id": "bhVkCl-0Gskk",
        "outputId": "a79417c5-819a-48ee-9d86-fd535ee0eeee"
      },
      "execution_count": 13,
      "outputs": [
        {
          "output_type": "stream",
          "name": "stdout",
          "text": [
            "Numbers: []\n"
          ]
        }
      ]
    },
    {
      "cell_type": "code",
      "source": [
        "\n",
        "capitalized_words = re.findall(r'\\b[A-Z][a-z]*\\b', text)\n",
        "print(\"Capitalized Words:\", capitalized_words)"
      ],
      "metadata": {
        "colab": {
          "base_uri": "https://localhost:8080/"
        },
        "id": "BLSz551EGvF8",
        "outputId": "9277fde2-8208-42bb-efd8-d3dd47473430"
      },
      "execution_count": 14,
      "outputs": [
        {
          "output_type": "stream",
          "name": "stdout",
          "text": [
            "Capitalized Words: ['Poetry', 'Unlike', 'It', 'Through']\n"
          ]
        }
      ]
    },
    {
      "cell_type": "code",
      "source": [
        "words_only_alpha = re.findall(r'\\b[a-zA-Z]+\\b', text)\n",
        "print(\"Words with only alphabets:\", words_only_alpha)"
      ],
      "metadata": {
        "colab": {
          "base_uri": "https://localhost:8080/"
        },
        "id": "9QaVxlMRGxgL",
        "outputId": "02b4777b-78a5-400f-942d-73d13dfafe46"
      },
      "execution_count": 15,
      "outputs": [
        {
          "output_type": "stream",
          "name": "stdout",
          "text": [
            "Words with only alphabets: ['Poetry', 'is', 'a', 'form', 'of', 'literary', 'expression', 'that', 'uses', 'rhythm', 'imagery', 'and', 'carefully', 'chosen', 'words', 'to', 'evoke', 'emotions', 'and', 'convey', 'ideas', 'Unlike', 'prose', 'poetry', 'often', 'relies', 'on', 'structure', 'such', 'as', 'meter', 'and', 'rhyme', 'to', 'create', 'musicality', 'and', 'depth', 'It', 'can', 'be', 'as', 'brief', 'as', 'a', 'haiku', 'or', 'as', 'expansive', 'as', 'an', 'epic', 'capturing', 'moments', 'thoughts', 'or', 'stories', 'in', 'unique', 'and', 'powerful', 'ways', 'Through', 'its', 'vivid', 'language', 'and', 'creative', 'forms', 'poetry', 'allows', 'readers', 'to', 'see', 'the', 'world', 'from', 'new', 'perspectives']\n"
          ]
        }
      ]
    },
    {
      "cell_type": "code",
      "source": [
        "words_starting_vowel = re.findall(r'\\b[AEIOUaeiou][a-zA-Z]*\\b', text)\n",
        "print(\"Words starting with a vowel:\", words_starting_vowel)\n"
      ],
      "metadata": {
        "colab": {
          "base_uri": "https://localhost:8080/"
        },
        "id": "5E4lGEb4G0S8",
        "outputId": "a8eed03d-11d5-4a02-9065-dfeb0948d156"
      },
      "execution_count": 16,
      "outputs": [
        {
          "output_type": "stream",
          "name": "stdout",
          "text": [
            "Words starting with a vowel: ['is', 'a', 'of', 'expression', 'uses', 'imagery', 'and', 'evoke', 'emotions', 'and', 'ideas', 'Unlike', 'often', 'on', 'as', 'and', 'and', 'It', 'as', 'as', 'a', 'or', 'as', 'expansive', 'as', 'an', 'epic', 'or', 'in', 'unique', 'and', 'its', 'and', 'allows']\n"
          ]
        }
      ]
    },
    {
      "cell_type": "code",
      "source": [],
      "metadata": {
        "id": "tyUmxblAG3wI"
      },
      "execution_count": null,
      "outputs": []
    }
  ]
}